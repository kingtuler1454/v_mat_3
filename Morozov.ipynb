{
 "cells": [
  {
   "cell_type": "code",
   "execution_count": 1,
   "metadata": {},
   "outputs": [
    {
     "ename": "ModuleNotFoundError",
     "evalue": "No module named 'sympy'",
     "output_type": "error",
     "traceback": [
      "\u001b[1;31m---------------------------------------------------------------------------\u001b[0m",
      "\u001b[1;31mModuleNotFoundError\u001b[0m                       Traceback (most recent call last)",
      "\u001b[1;32mc:\\Users\\smorozov\\Desktop\\v_mat_3-1\\Morozov.ipynb Ячейка 1\u001b[0m line \u001b[0;36m2\n\u001b[0;32m      <a href='vscode-notebook-cell:/c%3A/Users/smorozov/Desktop/v_mat_3-1/Morozov.ipynb#X24sZmlsZQ%3D%3D?line=0'>1</a>\u001b[0m \u001b[39mimport\u001b[39;00m \u001b[39mnumpy\u001b[39;00m \u001b[39mas\u001b[39;00m \u001b[39mnp\u001b[39;00m\n\u001b[1;32m----> <a href='vscode-notebook-cell:/c%3A/Users/smorozov/Desktop/v_mat_3-1/Morozov.ipynb#X24sZmlsZQ%3D%3D?line=1'>2</a>\u001b[0m \u001b[39mfrom\u001b[39;00m \u001b[39msympy\u001b[39;00m \u001b[39mimport\u001b[39;00m sm\n",
      "\u001b[1;31mModuleNotFoundError\u001b[0m: No module named 'sympy'"
     ]
    }
   ],
   "source": [
    "import numpy as np\n",
    "from sympy import sm, symplify"
   ]
  },
  {
   "cell_type": "markdown",
   "metadata": {},
   "source": [
    "1. Используя интерполяционную формулу Лагранжа для\n",
    "неравноотстоящих узлов \n",
    "\n",
    "\n",
    "\n",
    "\n",
    "\n",
    "Замечание. В лабораторной работе обязательно должна\n",
    "присутствовать теоретическая часть, содержащая все формулы для\n",
    "вычислений"
   ]
  },
  {
   "cell_type": "markdown",
   "metadata": {},
   "source": [
    "Функция задана таблицей:\n",
    "x 0.11 0.15 0.21 0.29 0.35 0.40\n",
    "y 9.05421 6.61659 4.69170 3.35106 2.73951 2.36522\n",
    "Построить многочлен Лагранжа. Вычислить значение\n",
    "функции в точках:\n",
    "x 0.314 0.235 0.332 0.275 0.18"
   ]
  },
  {
   "cell_type": "markdown",
   "metadata": {},
   "source": [
    "a) построить многочлен Лагранжа\n",
    "(вывести формулу)\n",
    "\n",
    "  (y(x-x0)..(x-xn))\n",
    "\n",
    "l=-----------------\n",
    "  \n",
    "   (xi-xo)...(xi-xn)\n",
    "\n",
    "   "
   ]
  },
  {
   "cell_type": "code",
   "execution_count": null,
   "metadata": {},
   "outputs": [],
   "source": [
    "def lagrange_interpolation(x_data, y_data):\n",
    "    x = sm.symbols('x')\n",
    "    n = len(x_data)\n",
    "    result = 0\n",
    "\n",
    "    for i in range(n):\n",
    "        term = y_data[i]\n",
    "        for j in range(n):\n",
    "            if i != j:\n",
    "                term *= (x - x_data[j]) / (x_data[i] - x_data[j])\n",
    "        result += term\n",
    "\n",
    "    return simplify(result)\n",
    "\n",
    "# Заданные данные\n",
    "x_data = np.array([0.11, 0.15, 0.21, 0.29, 0.35, 0.40])\n",
    "y_data = np.array([9.05421, 6.61659, 4.69170, 3.35106, 2.73951, 2.36522])\n",
    "\n",
    "# Создаем многочлен Лагранжа\n",
    "lagrange_polynomial = lagrange_interpolation(x_data, y_data)\n",
    "\n",
    "# Выводим многочлен Лагранжа\n",
    "print(\"Многочлен Лагранжа:\")\n",
    "print(lagrange_polynomial)\n"
   ]
  },
  {
   "cell_type": "markdown",
   "metadata": {},
   "source": [
    "b) вывести график многочлена Лагранжа на\n",
    "заданном промежутке"
   ]
  },
  {
   "cell_type": "code",
   "execution_count": null,
   "metadata": {},
   "outputs": [],
   "source": []
  },
  {
   "cell_type": "markdown",
   "metadata": {},
   "source": [
    "c) вычислить значения функции при\n",
    "данных значениях аргумента"
   ]
  },
  {
   "cell_type": "code",
   "execution_count": null,
   "metadata": {},
   "outputs": [],
   "source": []
  },
  {
   "cell_type": "markdown",
   "metadata": {},
   "source": [
    "d) отметить на графике (разными\n",
    "цветами) узлы интерполяции, а также предсказанные значения\n",
    "функции"
   ]
  },
  {
   "cell_type": "code",
   "execution_count": null,
   "metadata": {},
   "outputs": [],
   "source": []
  },
  {
   "cell_type": "markdown",
   "metadata": {},
   "source": [
    "2. Используя таблицу значений функции"
   ]
  },
  {
   "cell_type": "markdown",
   "metadata": {},
   "source": [
    "a) рассчитать и\n",
    "показать таблицу конечных разностей"
   ]
  },
  {
   "cell_type": "code",
   "execution_count": null,
   "metadata": {},
   "outputs": [],
   "source": []
  },
  {
   "cell_type": "markdown",
   "metadata": {},
   "source": [
    "b) по таблице конечных\n",
    "разностей построить первую и вторую интерполяционные\n",
    "формулы Ньютона"
   ]
  },
  {
   "cell_type": "code",
   "execution_count": null,
   "metadata": {},
   "outputs": [],
   "source": []
  },
  {
   "cell_type": "markdown",
   "metadata": {},
   "source": [
    "c) вычислить указанные значения функции при\n",
    "данных значениях аргумента (помните, что пользоваться нужно\n",
    "как первой, так и второй формулой, в зависимости от значения\n",
    "аргумента"
   ]
  },
  {
   "cell_type": "code",
   "execution_count": null,
   "metadata": {},
   "outputs": [],
   "source": []
  }
 ],
 "metadata": {
  "kernelspec": {
   "display_name": "Python 3",
   "language": "python",
   "name": "python3"
  },
  "language_info": {
   "codemirror_mode": {
    "name": "ipython",
    "version": 3
   },
   "file_extension": ".py",
   "mimetype": "text/x-python",
   "name": "python",
   "nbconvert_exporter": "python",
   "pygments_lexer": "ipython3",
   "version": "3.11.5"
  }
 },
 "nbformat": 4,
 "nbformat_minor": 2
}
